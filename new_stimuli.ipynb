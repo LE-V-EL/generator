{
 "cells": [
  {
   "cell_type": "code",
   "execution_count": 79,
   "metadata": {
    "scrolled": true
   },
   "outputs": [
    {
     "name": "stdout",
     "output_type": "stream",
     "text": [
      "Populating the interactive namespace from numpy and matplotlib\n",
      "The autoreload extension is already loaded. To reload it, use:\n",
      "  %reload_ext autoreload\n"
     ]
    }
   ],
   "source": [
    "%pylab inline\n",
    "%load_ext autoreload\n",
    "%autoreload 2"
   ]
  },
  {
   "cell_type": "code",
   "execution_count": 80,
   "metadata": {},
   "outputs": [],
   "source": [
    "import matplotlib.pyplot as pylab\n",
    "from stimuli import Figure5\n",
    "import numpy as np \n",
    "import pprint\n",
    "import json"
   ]
  },
  {
   "cell_type": "code",
   "execution_count": 81,
   "metadata": {},
   "outputs": [],
   "source": [
    "# some globals\n",
    "\n",
    "train_target  = 80000\n",
    "val_target    = 20000\n",
    "test_target   = 20000\n",
    "\n",
    "MAX_ANGLE  = 90\n",
    "HEIGHT     = 100\n",
    "WIDTH      = 150\n",
    "NUM_ANGLES = 4"
   ]
  },
  {
   "cell_type": "code",
   "execution_count": 82,
   "metadata": {},
   "outputs": [],
   "source": [
    "def check_distribution(label, ang_counter, total_counter):\n",
    "    \n",
    "    # we dont care until we reach larger amounts\n",
    "    if total_counter < 1000:\n",
    "        return True\n",
    "    \n",
    "    # not adding anything over 110% of the average amount in each angle bucket\n",
    "    threshold = (total_counter / len(ang_counter) * NUM_ANGLES) * 1.1\n",
    "    \n",
    "    for angle in label:\n",
    "        if ang_counter[angle - 1] > threshold:\n",
    "            return False\n",
    "    \n",
    "    return True"
   ]
  },
  {
   "cell_type": "code",
   "execution_count": null,
   "metadata": {},
   "outputs": [],
   "source": [
    "folder = \"output/\"\n",
    "\n",
    "all_counter   = 0\n",
    "\n",
    "train_data = np.zeros((train_target, HEIGHT, WIDTH), dtype=np.float32)\n",
    "train_label = np.zeros((train_target, NUM_ANGLES), dtype=np.float32)\n",
    "train_counter = 0\n",
    "\n",
    "val_data = np.zeros((val_target, HEIGHT, WIDTH), dtype=np.float32)\n",
    "val_label = np.zeros((val_target, NUM_ANGLES), dtype=np.float32)\n",
    "val_counter = 0\n",
    "\n",
    "test_data = np.zeros((test_target, HEIGHT, WIDTH), dtype=np.float32)\n",
    "test_label = np.zeros((test_target, NUM_ANGLES), dtype=np.float32)\n",
    "test_counter = 0\n",
    "\n",
    "train_angles = np.zeros(MAX_ANGLE)\n",
    "val_angles   = np.zeros(MAX_ANGLE)\n",
    "test_angles  = np.zeros(MAX_ANGLE)\n",
    "\n",
    "used = set()\n",
    "\n",
    "iteration_counter = 0\n",
    "\n",
    "while train_counter < train_target or val_counter < val_target or test_counter < test_target:\n",
    "    \n",
    "    # sanity checking when running\n",
    "    iteration_counter += 1\n",
    "    if not iteration_counter % 100000:\n",
    "        print(iteration_counter)\n",
    "\n",
    "    sparse, image, label, parameters = Figure5.angle(flags=[True, False, False])\n",
    "\n",
    "    np_image = image.astype(np.float32)\n",
    "    \n",
    "    # adding noise\n",
    "    np_image += np.random.uniform(0, 0.05, (HEIGHT, WIDTH))\n",
    "    \n",
    "    sorted_label = tuple(np.sort(label))\n",
    "    \n",
    "    if sorted_label not in used:\n",
    "                                                                               \n",
    "        if train_counter < train_target and check_distribution(label, train_angles, train_counter):\n",
    "            \n",
    "            for angle in label: \n",
    "                train_angles[angle - 1] += 1\n",
    "\n",
    "            train_data[train_counter] = np_image\n",
    "            train_label[train_counter] = label\n",
    "            \n",
    "            pylab.imsave(folder + \"train/\" + str(train_counter) + \".png\", image)\n",
    "            \n",
    "            used.add(sorted_label)\n",
    "            train_counter += 1\n",
    "            all_counter += 1\n",
    "\n",
    "        #repeat process with other 2 sets of data\n",
    "        elif val_counter < val_target and check_distribution(label, val_angles, val_counter):\n",
    "            \n",
    "            for angle in label: \n",
    "                val_angles[angle - 1] += 1\n",
    "\n",
    "            val_data[val_counter] = np_image\n",
    "            val_label[val_counter] = label\n",
    "            \n",
    "            pylab.imsave(folder + \"val/\" + str(val_counter) + \".png\", image)\n",
    "            \n",
    "            used.add(sorted_label)\n",
    "            val_counter += 1\n",
    "            all_counter += 1\n",
    "\n",
    "        elif test_counter < test_target and check_distribution(label, test_angles, test_counter):\n",
    "            \n",
    "            for angle in label: \n",
    "                test_angles[angle - 1] += 1\n",
    "\n",
    "            test_data[test_counter] = np_image\n",
    "            test_label[test_counter] = label\n",
    "            \n",
    "            pylab.imsave(folder + \"test/\" + str(test_counter) + \".png\", image)\n",
    "            \n",
    "            used.add(sorted_label)\n",
    "            test_counter += 1\n",
    "            all_counter += 1\n",
    "        \n",
    "np.save(folder + \"train_data.npy\",  train_data)\n",
    "np.save(folder + \"train_label.npy\", train_label)\n",
    "np.save(folder + \"val_data.npy\",    val_data)\n",
    "np.save(folder + \"val_label.npy\",   val_label)\n",
    "np.save(folder + \"test_data.npy\",   test_data)\n",
    "np.save(folder + \"test_label.npy\",  test_label)"
   ]
  },
  {
   "cell_type": "code",
   "execution_count": null,
   "metadata": {},
   "outputs": [],
   "source": [
    "pyplot.bar(len(train_angles),train_angles)\n"
   ]
  },
  {
   "cell_type": "code",
   "execution_count": null,
   "metadata": {},
   "outputs": [],
   "source": [
    "pyplot.bar(len(val_angles), val_angles)"
   ]
  },
  {
   "cell_type": "code",
   "execution_count": null,
   "metadata": {},
   "outputs": [],
   "source": [
    "pyplot.bar(len(test_angles), test_angles)"
   ]
  },
  {
   "cell_type": "code",
   "execution_count": null,
   "metadata": {},
   "outputs": [],
   "source": []
  }
 ],
 "metadata": {
  "kernelspec": {
   "display_name": "Python 3",
   "language": "python",
   "name": "python3"
  },
  "language_info": {
   "codemirror_mode": {
    "name": "ipython",
    "version": 3
   },
   "file_extension": ".py",
   "mimetype": "text/x-python",
   "name": "python",
   "nbconvert_exporter": "python",
   "pygments_lexer": "ipython3",
   "version": "3.6.10"
  }
 },
 "nbformat": 4,
 "nbformat_minor": 4
}
