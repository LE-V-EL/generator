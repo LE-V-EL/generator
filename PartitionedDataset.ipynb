{
 "cells": [
  {
   "cell_type": "code",
   "execution_count": 1,
   "metadata": {},
   "outputs": [
    {
     "name": "stdout",
     "output_type": "stream",
     "text": [
      "Populating the interactive namespace from numpy and matplotlib\n"
     ]
    }
   ],
   "source": [
    "%pylab inline\n",
    "%load_ext autoreload\n",
    "%autoreload 2"
   ]
  },
  {
   "cell_type": "code",
   "execution_count": 2,
   "metadata": {},
   "outputs": [
    {
     "name": "stderr",
     "output_type": "stream",
     "text": [
      "/home/jwfree/anaconda3/envs/generator/lib/python3.6/site-packages/tensorflow/python/framework/dtypes.py:523: FutureWarning: Passing (type, 1) or '1type' as a synonym of type is deprecated; in a future version of numpy, it will be understood as (type, (1,)) / '(1,)type'.\n",
      "  _np_qint8 = np.dtype([(\"qint8\", np.int8, 1)])\n",
      "/home/jwfree/anaconda3/envs/generator/lib/python3.6/site-packages/tensorflow/python/framework/dtypes.py:524: FutureWarning: Passing (type, 1) or '1type' as a synonym of type is deprecated; in a future version of numpy, it will be understood as (type, (1,)) / '(1,)type'.\n",
      "  _np_quint8 = np.dtype([(\"quint8\", np.uint8, 1)])\n",
      "/home/jwfree/anaconda3/envs/generator/lib/python3.6/site-packages/tensorflow/python/framework/dtypes.py:525: FutureWarning: Passing (type, 1) or '1type' as a synonym of type is deprecated; in a future version of numpy, it will be understood as (type, (1,)) / '(1,)type'.\n",
      "  _np_qint16 = np.dtype([(\"qint16\", np.int16, 1)])\n",
      "/home/jwfree/anaconda3/envs/generator/lib/python3.6/site-packages/tensorflow/python/framework/dtypes.py:526: FutureWarning: Passing (type, 1) or '1type' as a synonym of type is deprecated; in a future version of numpy, it will be understood as (type, (1,)) / '(1,)type'.\n",
      "  _np_quint16 = np.dtype([(\"quint16\", np.uint16, 1)])\n",
      "/home/jwfree/anaconda3/envs/generator/lib/python3.6/site-packages/tensorflow/python/framework/dtypes.py:527: FutureWarning: Passing (type, 1) or '1type' as a synonym of type is deprecated; in a future version of numpy, it will be understood as (type, (1,)) / '(1,)type'.\n",
      "  _np_qint32 = np.dtype([(\"qint32\", np.int32, 1)])\n",
      "/home/jwfree/anaconda3/envs/generator/lib/python3.6/site-packages/tensorflow/python/framework/dtypes.py:532: FutureWarning: Passing (type, 1) or '1type' as a synonym of type is deprecated; in a future version of numpy, it will be understood as (type, (1,)) / '(1,)type'.\n",
      "  np_resource = np.dtype([(\"resource\", np.ubyte, 1)])\n"
     ]
    }
   ],
   "source": [
    "from datasets import PartitionedDataset "
   ]
  },
  {
   "cell_type": "code",
   "execution_count": 3,
   "metadata": {},
   "outputs": [],
   "source": [
    "part = PartitionedDataset()"
   ]
  },
  {
   "cell_type": "code",
   "execution_count": 4,
   "metadata": {},
   "outputs": [
    {
     "name": "stdout",
     "output_type": "stream",
     "text": [
      "itteration:  1000\n",
      "Finished Generating:  train\n",
      "Finished Generating:  val\n",
      "Finished Generating:  test\n",
      "Evaluation time  0:00:02.854006\n"
     ]
    }
   ],
   "source": [
    "part.generate()"
   ]
  },
  {
   "cell_type": "code",
   "execution_count": 5,
   "metadata": {},
   "outputs": [
    {
     "name": "stdout",
     "output_type": "stream",
     "text": [
      "itteration:  1000\n",
      "count:  1000\n",
      "itteration:  2000\n",
      "itteration:  3000\n",
      "count:  2000\n",
      "itteration:  4000\n",
      "count:  3000\n",
      "itteration:  5000\n",
      "count:  4000\n",
      "itteration:  6000\n",
      "count:  5000\n",
      "itteration:  7000\n",
      "count:  6000\n",
      "itteration:  8000\n",
      "count:  7000\n",
      "itteration:  9000\n",
      "count:  8000\n",
      "itteration:  10000\n",
      "count:  9000\n",
      "itteration:  11000\n",
      "count:  10000\n",
      "Finished Generating:  train\n",
      "itteration:  1000\n",
      "count:  11000\n",
      "itteration:  2000\n",
      "itteration:  3000\n",
      "count:  12000\n",
      "Finished Generating:  val\n",
      "itteration:  1000\n",
      "count:  13000\n",
      "itteration:  2000\n",
      "itteration:  3000\n",
      "count:  14000\n",
      "Finished Generating:  test\n",
      "Evaluation time  0:01:04.180955\n"
     ]
    }
   ],
   "source": [
    "big = PartitionedDataset({'train': 10000, \"val\": 2000, \"test\": 2000})\n",
    "big.generate()"
   ]
  },
  {
   "cell_type": "code",
   "execution_count": null,
   "metadata": {},
   "outputs": [
    {
     "name": "stdout",
     "output_type": "stream",
     "text": [
      "itteration:  1000\n",
      "itteration:  2000\n",
      "count:  1000\n",
      "itteration:  3000\n",
      "count:  2000\n",
      "itteration:  4000\n",
      "count:  3000\n",
      "itteration:  5000\n",
      "count:  4000\n",
      "itteration:  6000\n",
      "count:  5000\n",
      "itteration:  7000\n",
      "count:  6000\n",
      "itteration:  8000\n",
      "count:  7000\n",
      "itteration:  9000\n",
      "count:  8000\n",
      "itteration:  10000\n",
      "count:  9000\n",
      "itteration:  11000\n",
      "count:  10000\n",
      "itteration:  12000\n",
      "count:  11000\n",
      "itteration:  13000\n",
      "count:  12000\n",
      "itteration:  14000\n",
      "count:  13000\n",
      "itteration:  15000\n",
      "count:  14000\n",
      "itteration:  16000\n",
      "count:  15000\n",
      "itteration:  17000\n",
      "itteration:  18000\n",
      "count:  16000\n",
      "itteration:  19000\n",
      "count:  17000\n",
      "itteration:  20000\n",
      "count:  18000\n",
      "itteration:  21000\n",
      "count:  19000\n",
      "itteration:  22000\n",
      "count:  20000\n",
      "itteration:  23000\n",
      "count:  21000\n",
      "itteration:  24000\n",
      "count:  22000\n",
      "itteration:  25000\n",
      "count:  23000\n",
      "itteration:  26000\n",
      "count:  24000\n",
      "itteration:  27000\n",
      "count:  25000\n",
      "itteration:  28000\n",
      "itteration:  29000\n",
      "count:  26000\n",
      "itteration:  30000\n",
      "count:  27000\n",
      "itteration:  31000\n",
      "count:  28000\n",
      "itteration:  32000\n",
      "count:  29000\n",
      "itteration:  33000\n",
      "count:  30000\n",
      "itteration:  34000\n",
      "count:  31000\n",
      "itteration:  35000\n",
      "itteration:  36000\n",
      "count:  32000\n",
      "itteration:  37000\n",
      "count:  33000\n",
      "itteration:  38000\n",
      "count:  34000\n",
      "itteration:  39000\n",
      "count:  35000\n",
      "itteration:  40000\n",
      "count:  36000\n",
      "itteration:  41000\n",
      "count:  37000\n",
      "itteration:  42000\n",
      "itteration:  43000\n",
      "count:  38000\n",
      "itteration:  44000\n",
      "count:  39000\n",
      "itteration:  45000\n",
      "count:  40000\n",
      "itteration:  46000\n",
      "count:  41000\n",
      "itteration:  47000\n",
      "itteration:  48000\n",
      "count:  42000\n",
      "itteration:  49000\n",
      "count:  43000\n",
      "itteration:  50000\n",
      "count:  44000\n",
      "itteration:  51000\n",
      "count:  45000\n",
      "itteration:  52000\n",
      "itteration:  53000\n",
      "count:  46000\n",
      "itteration:  54000\n",
      "count:  47000\n",
      "itteration:  55000\n",
      "count:  48000\n",
      "itteration:  56000\n",
      "count:  49000\n",
      "itteration:  57000\n",
      "itteration:  58000\n",
      "count:  50000\n",
      "itteration:  59000\n",
      "count:  51000\n",
      "itteration:  60000\n",
      "count:  52000\n",
      "itteration:  61000\n",
      "count:  53000\n",
      "itteration:  62000\n",
      "itteration:  63000\n",
      "count:  54000\n",
      "itteration:  64000\n",
      "count:  55000\n",
      "itteration:  65000\n",
      "count:  56000\n",
      "itteration:  66000\n",
      "itteration:  67000\n",
      "count:  57000\n",
      "itteration:  68000\n",
      "count:  58000\n",
      "itteration:  69000\n",
      "count:  59000\n",
      "itteration:  70000\n",
      "itteration:  71000\n",
      "count:  60000\n",
      "Finished Generating:  train\n",
      "itteration:  1000\n",
      "itteration:  2000\n",
      "count:  61000\n",
      "itteration:  3000\n",
      "count:  62000\n",
      "itteration:  4000\n",
      "itteration:  5000\n",
      "count:  63000\n",
      "itteration:  6000\n",
      "count:  64000\n",
      "itteration:  7000\n",
      "itteration:  8000\n",
      "count:  65000\n",
      "itteration:  9000\n",
      "count:  66000\n",
      "itteration:  10000\n",
      "count:  67000\n",
      "itteration:  11000\n",
      "itteration:  12000\n",
      "count:  68000\n",
      "itteration:  13000\n",
      "count:  69000\n",
      "itteration:  14000\n",
      "itteration:  15000\n",
      "count:  70000\n",
      "itteration:  16000\n",
      "count:  71000\n",
      "itteration:  17000\n",
      "itteration:  18000\n",
      "count:  72000\n",
      "itteration:  19000\n",
      "count:  73000\n",
      "itteration:  20000\n",
      "itteration:  21000\n",
      "count:  74000\n",
      "itteration:  22000\n"
     ]
    }
   ],
   "source": [
    "bigger = PartitionedDataset({\"train\": 60000, \"val\": 20000, \"test\": 20000})\n",
    "bigger.generate()"
   ]
  },
  {
   "cell_type": "code",
   "execution_count": null,
   "metadata": {},
   "outputs": [],
   "source": []
  }
 ],
 "metadata": {
  "kernelspec": {
   "display_name": "Python 3",
   "language": "python",
   "name": "python3"
  },
  "language_info": {
   "codemirror_mode": {
    "name": "ipython",
    "version": 3
   },
   "file_extension": ".py",
   "mimetype": "text/x-python",
   "name": "python",
   "nbconvert_exporter": "python",
   "pygments_lexer": "ipython3",
   "version": "3.6.10"
  }
 },
 "nbformat": 4,
 "nbformat_minor": 4
}
