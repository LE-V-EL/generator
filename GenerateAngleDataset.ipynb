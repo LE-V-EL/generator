{
 "cells": [
  {
   "cell_type": "code",
   "execution_count": 31,
   "metadata": {},
   "outputs": [
    {
     "name": "stdout",
     "output_type": "stream",
     "text": [
      "Populating the interactive namespace from numpy and matplotlib\n",
      "The autoreload extension is already loaded. To reload it, use:\n",
      "  %reload_ext autoreload\n"
     ]
    }
   ],
   "source": [
    "%pylab inline\n",
    "%load_ext autoreload\n",
    "%autoreload 2"
   ]
  },
  {
   "cell_type": "code",
   "execution_count": 32,
   "metadata": {},
   "outputs": [],
   "source": [
    "import os\n",
    "from datasets import DatasetGenerator, DatasetFromFile\n",
    "import matplotlib.pyplot as pylab\n",
    "import pprint\n",
    "import numpy as np"
   ]
  },
  {
   "cell_type": "code",
   "execution_count": 33,
   "metadata": {},
   "outputs": [
    {
     "name": "stdout",
     "output_type": "stream",
     "text": [
      "Generating dataset of class:  angle\n",
      "itteration:  1000\n",
      "Finished Generating:  train\n",
      "Finished Generating:  val\n",
      "labels added:  1000\n",
      "Finished Generating:  test\n",
      "Evaluation time  0:00:04.318308\n"
     ]
    }
   ],
   "source": [
    "DatasetGenerator(counts={'train': 600, 'val': 200, 'test': 200}, batch=False).generate()\n",
    "    "
   ]
  },
  {
   "cell_type": "code",
   "execution_count": 34,
   "metadata": {},
   "outputs": [],
   "source": [
    "dataset_object = DatasetFromFile(file='output/angle/train_0.npz').load_from_file()"
   ]
  },
  {
   "cell_type": "code",
   "execution_count": 35,
   "metadata": {},
   "outputs": [
    {
     "name": "stdout",
     "output_type": "stream",
     "text": [
      "label:\n",
      " uint8   (600, 4) \n",
      "\n",
      "image:\n",
      " float32   (600, 100, 150) \n",
      "\n",
      "mask:\n",
      " uint8   (600, 100, 150, 4) \n",
      "\n",
      "bbox:\n",
      " uint16   (600, 4, 4) \n",
      "\n",
      "sparse:\n",
      " uint16   (600, 4, 4) \n",
      "\n",
      "metadata:\n",
      " <U19   (4, 2) \n",
      "\n"
     ]
    }
   ],
   "source": [
    "raw_dataset = np.load('output/angle/train_0.npz')\n",
    "\n",
    "for component in raw_dataset.keys():\n",
    "    print(component + \":\\n\", raw_dataset[component].dtype, \" \", raw_dataset[component].shape, \"\\n\")\n"
   ]
  },
  {
   "cell_type": "code",
   "execution_count": 36,
   "metadata": {},
   "outputs": [
    {
     "data": {
      "text/plain": [
       "array([['parameters', '1101996057600000000'],\n",
       "       ['data_class', 'angle'],\n",
       "       ['distance_threshold', '3.0'],\n",
       "       ['count', '600']], dtype='<U19')"
      ]
     },
     "execution_count": 36,
     "metadata": {},
     "output_type": "execute_result"
    }
   ],
   "source": [
    "dataset_object.metadata"
   ]
  },
  {
   "cell_type": "code",
   "execution_count": null,
   "metadata": {},
   "outputs": [],
   "source": []
  }
 ],
 "metadata": {
  "kernelspec": {
   "display_name": "Python 3",
   "language": "python",
   "name": "python3"
  },
  "language_info": {
   "codemirror_mode": {
    "name": "ipython",
    "version": 3
   },
   "file_extension": ".py",
   "mimetype": "text/x-python",
   "name": "python",
   "nbconvert_exporter": "python",
   "pygments_lexer": "ipython3",
   "version": "3.6.10"
  }
 },
 "nbformat": 4,
 "nbformat_minor": 4
}
