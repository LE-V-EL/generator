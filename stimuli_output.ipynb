{
 "cells": [
  {
   "cell_type": "code",
   "execution_count": 99,
   "metadata": {},
   "outputs": [
    {
     "name": "stdout",
     "output_type": "stream",
     "text": [
      "Populating the interactive namespace from numpy and matplotlib\n",
      "The autoreload extension is already loaded. To reload it, use:\n",
      "  %reload_ext autoreload\n"
     ]
    }
   ],
   "source": [
    "%pylab inline\n",
    "%load_ext autoreload\n",
    "%autoreload 2"
   ]
  },
  {
   "cell_type": "code",
   "execution_count": 100,
   "metadata": {},
   "outputs": [],
   "source": [
    "import matplotlib.pyplot as pylab\n",
    "from stimuli import Figure5\n",
    "import pprint\n",
    "import json"
   ]
  },
  {
   "cell_type": "code",
   "execution_count": 101,
   "metadata": {},
   "outputs": [],
   "source": [
    "#There are lots of permutations and it would be repetitive to show all of them, so here's a rundown of the flags\n",
    "#Flag 1 - True: Arranged in a diagonal, False: Y position is random\n",
    "#Flag 2 - True: X position can \"wiggle\" (be up to 5 px off normal position), False: X position is constant\n",
    "#Flag 3 - True: The largest stimulus is always at the farthest left position, False: the largest can be any of the 4"
   ]
  },
  {
   "cell_type": "code",
   "execution_count": null,
   "metadata": {},
   "outputs": [],
   "source": []
  },
  {
   "cell_type": "code",
   "execution_count": 102,
   "metadata": {},
   "outputs": [
    {
     "name": "stdout",
     "output_type": "stream",
     "text": [
      "([{'angle': 89, 'startangle': 91, 'x': 15, 'y': 30},\n",
      "  {'angle': 40, 'startangle': 2, 'x': 37, 'y': 20},\n",
      "  {'angle': 70, 'startangle': 313, 'x': 59, 'y': 25},\n",
      "  {'angle': 6, 'startangle': 61, 'x': 81, 'y': 36}],\n",
      " array([[0., 0., 0., ..., 0., 0., 0.],\n",
      "       [0., 0., 0., ..., 0., 0., 0.],\n",
      "       [0., 0., 0., ..., 0., 0., 0.],\n",
      "       ...,\n",
      "       [0., 0., 0., ..., 0., 0., 0.],\n",
      "       [0., 0., 0., ..., 0., 0., 0.],\n",
      "       [0., 0., 0., ..., 0., 0., 0.]]),\n",
      " [89, 40, 70, 6],\n",
      " 15258062196156441600000000)\n"
     ]
    },
    {
     "data": {
      "text/plain": [
       "<matplotlib.image.AxesImage at 0x7f2611b4e9e8>"
      ]
     },
     "execution_count": 102,
     "metadata": {},
     "output_type": "execute_result"
    },
    {
     "data": {
      "image/png": "[encoded data removed]",
      "text/plain": [
       "<Figure size 432x288 with 1 Axes>"
      ]
     },
     "metadata": {
      "needs_background": "light"
     },
     "output_type": "display_data"
    }
   ],
   "source": [
    "pprint.pprint(Figure5.angle(flags=[False, False, False]))\n",
    "pylab.imshow(Figure5.angle(flags=[False, False, False])[1])"
   ]
  },
  {
   "cell_type": "code",
   "execution_count": 103,
   "metadata": {
    "scrolled": true
   },
   "outputs": [],
   "source": [
    "folder = \"output/train/\"\n",
    "metadata = []\n",
    "for i in range(80000):\n",
    "    output = Figure5.angle(flags=[False, False, False])\n",
    "    metadata.append(output[0])\n",
    "    pylab.imsave(folder + str(i) + \".png\", output[1])\n",
    "with open(folder + 'metadata.txt', 'w') as outfile:\n",
    "    json.dump(metadata, outfile)    "
   ]
  },
  {
   "cell_type": "code",
   "execution_count": 104,
   "metadata": {},
   "outputs": [
    {
     "data": {
      "image/png": "[encoded data removed]",
      "text/plain": [
       "<Figure size 432x288 with 1 Axes>"
      ]
     },
     "metadata": {
      "needs_background": "light"
     },
     "output_type": "display_data"
    }
   ],
   "source": [
    "with open(folder + 'metadata.txt') as json_file:\n",
    "    data = json.load(json_file)\n",
    "    hist_data = []\n",
    "    for x in data:\n",
    "        for y in x:\n",
    "            hist_data.append(y.get('angle'))\n",
    "    pyplot.hist(hist_data, bins=int(89))"
   ]
  },
  {
   "cell_type": "code",
   "execution_count": 105,
   "metadata": {},
   "outputs": [
    {
     "data": {
      "image/png": "[encoded data removed]",
      "text/plain": [
       "<Figure size 432x288 with 1 Axes>"
      ]
     },
     "metadata": {
      "needs_background": "light"
     },
     "output_type": "display_data"
    }
   ],
   "source": [
    "with open(folder + 'metadata.txt') as json_file:\n",
    "    data = json.load(json_file)\n",
    "    hist_data = []\n",
    "    for x in data:\n",
    "        for y in x:\n",
    "            hist_data.append(y.get('startangle'))\n",
    "    pyplot.hist(hist_data, bins=360)"
   ]
  },
  {
   "cell_type": "code",
   "execution_count": 106,
   "metadata": {},
   "outputs": [],
   "source": [
    "folder = \"output/validate/\"\n",
    "metadata = []\n",
    "for i in range(20000):\n",
    "    output = Figure5.angle(flags=[False, False, False])\n",
    "    metadata.append(output[0])\n",
    "    pylab.imsave(folder + str(i) + \".png\", output[1])\n",
    "with open(folder + 'metadata.txt', 'w') as outfile:\n",
    "    json.dump(metadata, outfile)  "
   ]
  },
  {
   "cell_type": "code",
   "execution_count": 107,
   "metadata": {},
   "outputs": [],
   "source": [
    "folder = \"output/test/\"\n",
    "metadata = []\n",
    "for i in range(20000):\n",
    "    output = Figure5.angle(flags=[False, False, False])\n",
    "    metadata.append(output[0])\n",
    "    pylab.imsave(folder + str(i) + \".png\", output[1])\n",
    "with open(folder + 'metadata.txt', 'w') as outfile:\n",
    "    json.dump(metadata, outfile)  "
   ]
  },
  {
   "cell_type": "code",
   "execution_count": 108,
   "metadata": {},
   "outputs": [
    {
     "data": {
      "image/png": "[encoded data removed]",
      "text/plain": [
       "<Figure size 432x288 with 1 Axes>"
      ]
     },
     "metadata": {
      "needs_background": "light"
     },
     "output_type": "display_data"
    }
   ],
   "source": [
    "folder = \"output/validate/\"\n",
    "with open(folder + 'metadata.txt') as json_file:\n",
    "    data = json.load(json_file)\n",
    "    hist_data = []\n",
    "    for x in data:\n",
    "        for y in x:\n",
    "            hist_data.append(y.get('angle'))\n",
    "    pyplot.hist(hist_data, bins=int(89))"
   ]
  },
  {
   "cell_type": "code",
   "execution_count": 109,
   "metadata": {},
   "outputs": [
    {
     "data": {
      "image/png": "[encoded data removed]",
      "text/plain": [
       "<Figure size 432x288 with 1 Axes>"
      ]
     },
     "metadata": {
      "needs_background": "light"
     },
     "output_type": "display_data"
    }
   ],
   "source": [
    "with open(folder + 'metadata.txt') as json_file:\n",
    "    data = json.load(json_file)\n",
    "    hist_data = []\n",
    "    for x in data:\n",
    "        for y in x:\n",
    "            hist_data.append(y.get('startangle'))\n",
    "    pyplot.hist(hist_data, bins=360)"
   ]
  },
  {
   "cell_type": "code",
   "execution_count": 110,
   "metadata": {},
   "outputs": [
    {
     "data": {
      "image/png": "[encoded data removed]",
      "text/plain": [
       "<Figure size 432x288 with 1 Axes>"
      ]
     },
     "metadata": {
      "needs_background": "light"
     },
     "output_type": "display_data"
    }
   ],
   "source": [
    "folder = \"output/test/\"\n",
    "with open(folder + 'metadata.txt') as json_file:\n",
    "    data = json.load(json_file)\n",
    "    hist_data = []\n",
    "    for x in data:\n",
    "        for y in x:\n",
    "            hist_data.append(y.get('angle'))\n",
    "    pyplot.hist(hist_data, bins=int(89))"
   ]
  },
  {
   "cell_type": "code",
   "execution_count": 111,
   "metadata": {},
   "outputs": [
    {
     "data": {
      "image/png": "[encoded data removed]",
      "text/plain": [
       "<Figure size 432x288 with 1 Axes>"
      ]
     },
     "metadata": {
      "needs_background": "light"
     },
     "output_type": "display_data"
    }
   ],
   "source": [
    "with open(folder + 'metadata.txt') as json_file:\n",
    "    data = json.load(json_file)\n",
    "    hist_data = []\n",
    "    for x in data:\n",
    "        for y in x:\n",
    "            hist_data.append(y.get('startangle'))\n",
    "    pyplot.hist(hist_data, bins=360)"
   ]
  },
  {
   "cell_type": "code",
   "execution_count": 112,
   "metadata": {},
   "outputs": [
    {
     "name": "stdout",
     "output_type": "stream",
     "text": [
      "([{'angle': 67, 'startangle': 139, 'x': 15, 'y': 50},\n",
      "  {'angle': 58, 'startangle': 356, 'x': 37, 'y': 65},\n",
      "  {'angle': 20, 'startangle': 297, 'x': 59, 'y': 72},\n",
      "  {'angle': 74, 'startangle': 150, 'x': 81, 'y': 25}],\n",
      " array([[0., 0., 0., ..., 0., 0., 0.],\n",
      "       [0., 0., 0., ..., 0., 0., 0.],\n",
      "       [0., 0., 0., ..., 0., 0., 0.],\n",
      "       ...,\n",
      "       [0., 0., 0., ..., 0., 0., 0.],\n",
      "       [0., 0., 0., ..., 0., 0., 0.],\n",
      "       [0., 0., 0., ..., 0., 0., 0.]]),\n",
      " [67, 58, 20, 74],\n",
      " 15258062196156441600000000)\n"
     ]
    },
    {
     "data": {
      "image/png": "[encoded data removed]",
      "text/plain": [
       "<Figure size 432x288 with 1 Axes>"
      ]
     },
     "metadata": {
      "needs_background": "light"
     },
     "output_type": "display_data"
    }
   ],
   "source": [
    "pprint.pprint(Figure5.angle(flags=[False, False, False]))\n",
    "pylab.imshow(Figure5.angle(flags=[False, False, False])[1])\n",
    "pylab.savefig(\"output/fig1.png\")"
   ]
  },
  {
   "cell_type": "code",
   "execution_count": 113,
   "metadata": {},
   "outputs": [
    {
     "data": {
      "image/png": "[encoded data removed]",
      "text/plain": [
       "<Figure size 432x288 with 1 Axes>"
      ]
     },
     "metadata": {
      "needs_background": "light"
     },
     "output_type": "display_data"
    }
   ],
   "source": [
    "pylab.imshow(Figure5.angle(flags=[False, True, True])[1])\n",
    "pylab.savefig(\"output/fig2.png\")"
   ]
  },
  {
   "cell_type": "code",
   "execution_count": 114,
   "metadata": {},
   "outputs": [
    {
     "data": {
      "image/png": "[encoded data removed]",
      "text/plain": [
       "<Figure size 432x288 with 1 Axes>"
      ]
     },
     "metadata": {
      "needs_background": "light"
     },
     "output_type": "display_data"
    }
   ],
   "source": [
    "pylab.imshow(Figure5.angle(flags=[False, True, False])[1])\n",
    "pylab.savefig(\"output/fig3.png\")"
   ]
  },
  {
   "cell_type": "code",
   "execution_count": 115,
   "metadata": {},
   "outputs": [
    {
     "data": {
      "image/png": "[encoded data removed]",
      "text/plain": [
       "<Figure size 432x288 with 1 Axes>"
      ]
     },
     "metadata": {
      "needs_background": "light"
     },
     "output_type": "display_data"
    }
   ],
   "source": [
    "pylab.imshow(Figure5.angle(flags=[True, True, True])[1])\n",
    "pylab.savefig(\"output/fig4.png\")"
   ]
  },
  {
   "cell_type": "code",
   "execution_count": 116,
   "metadata": {},
   "outputs": [
    {
     "data": {
      "image/png": "[encoded data removed]",
      "text/plain": [
       "<Figure size 432x288 with 1 Axes>"
      ]
     },
     "metadata": {
      "needs_background": "light"
     },
     "output_type": "display_data"
    }
   ],
   "source": [
    "pylab.imshow(Figure5.angle(flags=[True, True, False])[1])\n",
    "pylab.savefig(\"output/fig5.png\")"
   ]
  },
  {
   "cell_type": "code",
   "execution_count": null,
   "metadata": {},
   "outputs": [],
   "source": []
  }
 ],
 "metadata": {
  "kernelspec": {
   "display_name": "Python 3",
   "language": "python",
   "name": "python3"
  },
  "language_info": {
   "codemirror_mode": {
    "name": "ipython",
    "version": 3
   },
   "file_extension": ".py",
   "mimetype": "text/x-python",
   "name": "python",
   "nbconvert_exporter": "python",
   "pygments_lexer": "ipython3",
   "version": "3.6.10"
  }
 },
 "nbformat": 4,
 "nbformat_minor": 4
}
